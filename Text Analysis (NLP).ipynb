{
 "cells": [
  {
   "cell_type": "markdown",
   "metadata": {},
   "source": [
    "This problem involves a mix of Python review (loops, conditionals, counters/dictionaries, sorting) and learning to work with a sizable collection of text data.\n",
    "\n",
    "You will be looking at a phenomenon of \"natural languages\" (i.e., human languages, such as English) called *Zipf's law*, which relates how frequently a word occurs in a language to its \"rank\" (the word with rank 1 is the most frequently occurring word, the word with rank 2 is the second most frequently occurring word, etc). Roughly speaking, the word with rank 1 appears twice as likely as the word with rank 2, and the three times as likely as the word with rank 3, and so forth. (Some details on Zipf's law can be found on [Wikipedia](https://en.wikipedia.org/wiki/Zipf%27s_law).) In this problem, we check whether Zipf's law holds for a real dataset of text documents.\n",
    "\n",
    "The dataset we look at is a collection of the 100 most popular books downloaded from the [Gutenburg Project](https://www.gutenberg.org/browse/scores/top). These 100 books form the corpus that we consider for this problem. Each file contains the text of a book. We will read in all 100 books.\n",
    "\n",
    "To list all files that match a certain pattern, you can use the `glob` package. Here's an example usage:\n",
    "\n",
    "```python\n",
    "import glob\n",
    "print(glob.glob('./HW1_Dataset/*.txt'))\n",
    "```\n",
    "\n",
    "PART (a): This part serves as a warm-up, getting  familiar with the kind of code we will be writing in this project. Note that throughout part (a), the code does **not** use spaCy.\n",
    "\n",
    "**Subpart i.** We write a loop that iterates through all 100 books; for each book, we print out its corresponding file name and also how long the book is in terms of string length (meaning that if we load in the book as a string, we compute the length of the string using the built-in Python function `len`; this is just counting the number of characters).\n",
    "\n",
    "The output looks like (although there should be 100 books rather than 3 as shown below; also, the ordering of the books might be different on your machine):\n",
    "\n",
    "```\n",
    "./HW1_Dataset/War and Peace by graf Leo Tolstoy (251).txt 3227580\n",
    "./HW1_Dataset/Democracy in America — Volume 1 by Alexis de Tocqueville (147).txt 1148435\n",
    "./HW1_Dataset/Frankenstein; Or, The Modern Prometheus by Mary Wollstonecraft Shelley (501).txt 441034\n",
    "```"
   ]
  },
  {
   "cell_type": "code",
   "execution_count": 1,
   "metadata": {},
   "outputs": [
    {
     "name": "stdout",
     "output_type": "stream",
     "text": [
      "./HW1_Dataset/War and Peace by graf Leo Tolstoy (251).txt  3227580\n",
      "./HW1_Dataset/Democracy in America — Volume 1 by Alexis de Tocqueville (147).txt  1148435\n",
      "./HW1_Dataset/Frankenstein; Or, The Modern Prometheus by Mary Wollstonecraft Shelley (501).txt  441034\n",
      "./HW1_Dataset/The King James Version of the Bible (132).txt  4351846\n",
      "./HW1_Dataset/Et dukkehjem. English by Henrik Ibsen (557).txt  161241\n",
      "./HW1_Dataset/Outpost in the Wilderness_ Fort Wayne, 1706-1828 by Charles Poinsatte (161).txt  363234\n",
      "./HW1_Dataset/The Romance of Lust_ A Classic Victorian erotic novel by Anonymous (294).txt  1051148\n",
      "./HW1_Dataset/The Odyssey by Homer (124).txt  697404\n",
      "./HW1_Dataset/A History of Spanish Literature by James Fitzmaurice-Kelly (109).txt  765918\n",
      "./HW1_Dataset/The Philosophy of Spiritual Activity by Rudolf Steiner (144).txt  545031\n",
      "./HW1_Dataset/My Fifteen Lost Years by Florence Elizabeth Maybrick (499).txt  383694\n",
      "./HW1_Dataset/Prestuplenie i nakazanie. English by Fyodor Dostoyevsky (160).txt  1154508\n",
      "./HW1_Dataset/The History of the Peloponnesian War by Thucydides (122).txt  1200021\n",
      "./HW1_Dataset/Gulliver's Travels into Several Remote Nations of the World by Jonathan Swift (136).txt  600105\n",
      "./HW1_Dataset/The Peddler Spy by W. J. Hamilton (356).txt  197390\n",
      "./HW1_Dataset/Dubliners by James Joyce (219).txt  389199\n",
      "./HW1_Dataset/The Hound of the Baskervilles by Arthur Conan Doyle (223).txt  339188\n",
      "./HW1_Dataset/The Boy Fortune Hunters in China by L. Frank  Baum (215).txt  324452\n",
      "./HW1_Dataset/Leviathan by Thomas Hobbes (417).txt  1231784\n",
      "./HW1_Dataset/The Awakening, and Selected Short Stories by Kate Chopin (192).txt  378936\n",
      "./HW1_Dataset/The Interesting Narrative of the Life of Olaudah Equiano, Or Gustavus Vassa, The African by Equiano (114).txt  471165\n",
      "./HW1_Dataset/Through the Looking-Glass by Lewis Carroll (134).txt  181667\n",
      "./HW1_Dataset/Il Principe. English by Niccolò Machiavelli (428) (Unicode Encoding Conflict).txt  300788\n",
      "./HW1_Dataset/On Liberty by John Stuart Mill (116).txt  325922\n",
      "./HW1_Dataset/The Law of Storms by John Wilson Ross (110).txt  65264\n",
      "./HW1_Dataset/The Strange Case of Dr. Jekyll and Mr. Hyde by Robert Louis Stevenson (170).txt  159542\n",
      "./HW1_Dataset/Liberalism by L. T.  Hobhouse (119).txt  305345\n",
      "./HW1_Dataset/Semmering 1912 by Peter Altenberg (221).txt  264946\n",
      "./HW1_Dataset/Les Misérables by Victor Hugo (165) (Unicode Encoding Conflict).txt  3254333\n",
      "./HW1_Dataset/The Count of Monte Cristo, Illustrated by Alexandre Dumas (160).txt  2643849\n",
      "./HW1_Dataset/Alice in Wonderland by Lewis Carroll and Alice Gerstenberg (126).txt  104079\n",
      "./HW1_Dataset/Common Sense by Thomas Paine (297).txt  145353\n",
      "./HW1_Dataset/Narrative of the Captivity and Restoration of Mrs. Mary Rowlandson by Mary White Rowlandson (222).txt  123784\n",
      "./HW1_Dataset/The Divine Comedy by Dante, Illustrated by Dante Alighieri (119).txt  2161\n",
      "./HW1_Dataset/The Importance of Being Earnest_ A Trivial Comedy for Serious People by Oscar Wilde (454).txt  138887\n",
      "./HW1_Dataset/Walden, and On The Duty Of Civil Disobedience by Henry David Thoreau (180).txt  656207\n",
      "./HW1_Dataset/The Yellow Wallpaper by Charlotte Perkins Gilman (462).txt  50841\n",
      "./HW1_Dataset/Jane Eyre_ An Autobiography by Charlotte Brontë (290) (Unicode Encoding Conflict).txt  1049267\n",
      "./HW1_Dataset/The Kama Sutra of Vatsyayana by Vatsyayana (172).txt  351664\n",
      "./HW1_Dataset/Sense and Sensibility by Jane Austen (177).txt  693095\n",
      "./HW1_Dataset/Adventures of Huckleberry Finn by Mark Twain (401).txt  593962\n",
      "./HW1_Dataset/Heart of Darkness by Joseph Conrad (213).txt  229835\n",
      "./HW1_Dataset/The Republic by Plato (246).txt  1214387\n",
      "./HW1_Dataset/The Complete Works of William Shakespeare by William Shakespeare (132).txt  5465100\n",
      "./HW1_Dataset/The Picture of Dorian Gray by Oscar Wilde (282).txt  453169\n",
      "./HW1_Dataset/The Works of Edgar Allan Poe — Volume 2 by Edgar Allan Poe (137).txt  569966\n",
      "./HW1_Dataset/Ulysses by James Joyce (282).txt  1534140\n",
      "./HW1_Dataset/The Federalist Papers by Alexander Hamilton and John Jay and James Madison (116).txt  1167141\n",
      "./HW1_Dataset/Leaves of Grass by Walt Whitman (164).txt  757361\n",
      "./HW1_Dataset/Narrative of the Life of Frederick Douglass, an American Slave by Frederick Douglass (243).txt  244263\n",
      "./HW1_Dataset/A Study in Scarlet by Arthur Conan Doyle (163).txt  262340\n",
      "./HW1_Dataset/Beowulf An Anglo-Saxon Epic Poem (403).txt  292953\n",
      "./HW1_Dataset/The Wendigo by Algernon Blackwood (174).txt  127464\n",
      "./HW1_Dataset/The Scarlet Letter by Nathaniel Hawthorne (211).txt  506975\n",
      "./HW1_Dataset/Persuasion by Jane Austen (2234).txt  486251\n",
      "./HW1_Dataset/The Time Machine by H. G.  Wells (137).txt  198281\n",
      "./HW1_Dataset/The Guardsman by Homer Greene (175).txt  412900\n",
      "./HW1_Dataset/Carmilla by Joseph Sheridan Le Fanu (135).txt  176408\n",
      "./HW1_Dataset/Uncle Tom's Cabin by Harriet Beecher Stowe (108).txt  1025501\n",
      "./HW1_Dataset/A Tale of Two Cities by Charles Dickens (425).txt  776702\n",
      "./HW1_Dataset/Moby Dick; Or, The Whale by Herman Melville (413).txt  1238569\n",
      "./HW1_Dataset/Songs of Innocence, and Songs of Experience by William Blake (166).txt  51724\n",
      "./HW1_Dataset/Dracula by Bram Stoker (461).txt  867141\n",
      "./HW1_Dataset/Emma by Jane Austen (166).txt  902390\n",
      "./HW1_Dataset/Wuthering Heights by Emily Brontë (179) (Unicode Encoding Conflict).txt  669150\n",
      "./HW1_Dataset/Autobiography of Benjamin Franklin by Benjamin Franklin (247).txt  458600\n",
      "./HW1_Dataset/The Strange Case of Dr. Jekyll and Mr. Hyde by Robert Louis Stevenson (158).txt  158048\n",
      "./HW1_Dataset/Anne of Green Gables by L. M.  Montgomery (114).txt  580635\n",
      "./HW1_Dataset/The Souls of Black Folk by W. E. B.  Du Bois (172).txt  421336\n",
      "./HW1_Dataset/The Confessions of St. Augustine by Bishop of Hippo Saint Augustine (157).txt  622405\n",
      "./HW1_Dataset/Candide by Voltaire (180).txt  224924\n",
      "./HW1_Dataset/The Legend of Sleepy Hollow by Washington Irving (399).txt  89237\n",
      "./HW1_Dataset/Alice's Adventures in Wonderland by Lewis Carroll (564).txt  163817\n",
      "./HW1_Dataset/Peter Pan by J. M.  Barrie (274).txt  278194\n",
      "./HW1_Dataset/The Wonderful Wizard of Oz by L. Frank  Baum (150).txt  227654\n",
      "./HW1_Dataset/The Innocents Abroad by Mark Twain (108).txt  1126278\n",
      "./HW1_Dataset/The Turn of the Screw by Henry James (185).txt  248089\n",
      "./HW1_Dataset/The Adventures of Tom Sawyer by Mark Twain (371).txt  412712\n",
      "./HW1_Dataset/The Tragedy of Romeo and Juliet by William Shakespeare (131).txt  174128\n",
      "./HW1_Dataset/A Modest Proposal by Jonathan Swift (233).txt  38966\n",
      "./HW1_Dataset/A Christmas Carol in Prose; Being a Ghost Story of Christmas by Charles Dickens (265).txt  177758\n",
      "./HW1_Dataset/Essays of Michel de Montaigne — Complete by Michel de Montaigne (205).txt  3033575\n",
      "./HW1_Dataset/The Adventures of Sherlock Holmes by Arthur Conan Doyle (447).txt  581864\n",
      "./HW1_Dataset/Robert Greene by Robert Greene (126).txt  760655\n",
      "./HW1_Dataset/Essays by Ralph Waldo Emerson by Ralph Waldo Emerson (239).txt  557197\n",
      "./HW1_Dataset/The Boy Fortune Hunters in the South Seas by L. Frank  Baum (150).txt  266166\n",
      "./HW1_Dataset/Pride and Prejudice by Jane Austen (1003).txt  704192\n",
      "./HW1_Dataset/My Secret Life, Volumes I. to III. by Anonymous (157).txt  1378627\n",
      "./HW1_Dataset/The Mysterious Affair at Styles by Agatha Christie (115).txt  340770\n",
      "./HW1_Dataset/Treasure Island by Robert Louis Stevenson (236).txt  383675\n",
      "./HW1_Dataset/Hedda Gabler by Henrik Ibsen (123).txt  193875\n",
      "./HW1_Dataset/Metamorphosis by Franz Kafka (483).txt  139056\n",
      "./HW1_Dataset/Great Expectations by Charles Dickens (293).txt  1013450\n",
      "./HW1_Dataset/The Life and Adventures of Robinson Crusoe by Daniel Defoe (126).txt  642909\n",
      "./HW1_Dataset/The Iliad by Homer (256).txt  1175588\n",
      "./HW1_Dataset/The Tragical History of Doctor Faustus by Christopher Marlowe (144).txt  143736\n",
      "./HW1_Dataset/Grimms' Fairy Tales by Jacob Grimm and Wilhelm Grimm (429).txt  540241\n",
      "./HW1_Dataset/Beyond Good and Evil by Friedrich Wilhelm Nietzsche (120).txt  402273\n",
      "./HW1_Dataset/Siddhartha by Hermann Hesse (216).txt  236855\n",
      "./HW1_Dataset/The Faery Queen and Her Knights by Alfred John Church (177).txt  447320\n"
     ]
    }
   ],
   "source": [
    "import glob\n",
    "for i in range(0,100):\n",
    "    with open(glob.glob('./HW1_Dataset/*.txt')[i], 'r') as f:\n",
    "        text = f.read()\n",
    "        print(glob.glob('./HW1_Dataset/*.txt')[i] + ' ', len(text))"
   ]
  },
  {
   "cell_type": "markdown",
   "metadata": {},
   "source": [
    "**Subpart ii.** Now we print out the top 15 longest books (in terms of raw string length, which is what you had already computed). In particular, we write the code so that the printout is of the following format:\n",
    "\n",
    "```\n",
    "1. <number of characters in longest text file> <filename of longest text file>\n",
    "2. <number of characters in 2nd longest text file> <filename of 2nd longest text file>\n",
    "...\n",
    "15. <number of characters in 15th longest text file> <filename of 15th longest text file>\n",
    "```\n"
   ]
  },
  {
   "cell_type": "code",
   "execution_count": 2,
   "metadata": {},
   "outputs": [
    {
     "name": "stdout",
     "output_type": "stream",
     "text": [
      "1. 5465100 The Complete Works of William Shakespeare by William Shakespeare (132).txt\n",
      "2. 4351846 The King James Version of the Bible (132).txt\n",
      "3. 3254333 Les Misérables by Victor Hugo (165) (Unicode Encoding Conflict).txt\n",
      "4. 3227580 War and Peace by graf Leo Tolstoy (251).txt\n",
      "5. 3033575 Essays of Michel de Montaigne — Complete by Michel de Montaigne (205).txt\n",
      "6. 2643849 The Count of Monte Cristo, Illustrated by Alexandre Dumas (160).txt\n",
      "7. 1534140 Ulysses by James Joyce (282).txt\n",
      "8. 1378627 My Secret Life, Volumes I. to III. by Anonymous (157).txt\n",
      "9. 1238569 Moby Dick; Or, The Whale by Herman Melville (413).txt\n",
      "10. 1231784 Leviathan by Thomas Hobbes (417).txt\n",
      "11. 1214387 The Republic by Plato (246).txt\n",
      "12. 1200021 The History of the Peloponnesian War by Thucydides (122).txt\n",
      "13. 1175588 The Iliad by Homer (256).txt\n",
      "14. 1167141 The Federalist Papers by Alexander Hamilton and John Jay and James Madison (116).txt\n",
      "15. 1154508 Prestuplenie i nakazanie. English by Fyodor Dostoyevsky (160).txt\n"
     ]
    }
   ],
   "source": [
    "list_of_files = dict()\n",
    "for i in range(0,100):\n",
    "    with open(glob.glob('./HW1_Dataset/*.txt')[i], 'r') as f:\n",
    "        text = f.read()\n",
    "        list_of_files[glob.glob('./HW1_Dataset/*.txt')[i]] = len(text)\n",
    "        \n",
    "list_of_files = sorted(list_of_files.items(), key=lambda x:x[1], reverse = True) \n",
    "for i in range(0,15):\n",
    "    print(i+1,'. ', list_of_files[i][1], ' ', list_of_files[i][0].split('/')[-1], sep = '')"
   ]
  },
  {
   "cell_type": "markdown",
   "metadata": {},
   "source": [
    "**Subpart iii.** You should find that some of the books are quite long. Processing very long books will be problematic with spaCy, so we will want to chop up long books into pieces. Note that chopping up large amounts of data into small pieces or \"batches\" is in fact quite common in machine learning since for massive datasets, we often cannot store them in their entirety on a CPU or GPU for processing all at once.\n",
    "\n",
    "As a toy example, suppose that a book's text is `'cat dog shark spam eggs'` and we want to split it up into batches where each batch has at most 3 words. Then we could split up the book's text into two batches/pieces: `'cat dog shark'` and `'spam eggs'`."
   ]
  },
  {
   "cell_type": "code",
   "execution_count": 3,
   "metadata": {},
   "outputs": [
    {
     "name": "stdout",
     "output_type": "stream",
     "text": [
      "['cat dog shark', 'spam eggs']\n"
     ]
    }
   ],
   "source": [
    "import numpy as np\n",
    "\n",
    "def split_into_batches(book_text, max_num_words_per_batch):\n",
    "    words_split_on_spaces = book_text.split(' ')\n",
    "    num_book_pieces = int(np.ceil(len(words_split_on_spaces) / max_num_words_per_batch))\n",
    "    batches = []\n",
    "    for piece_idx in range(num_book_pieces):\n",
    "        start_idx = piece_idx * max_num_words_per_batch\n",
    "        end_idx = (piece_idx + 1) * max_num_words_per_batch\n",
    "        if end_idx > len(words_split_on_spaces):\n",
    "            end_idx = len(words_split_on_spaces)\n",
    "        book_piece = ' '.join(words_split_on_spaces[start_idx:end_idx])\n",
    "        batches.append(book_piece)\n",
    "    return batches\n",
    "\n",
    "print(split_into_batches('cat dog shark spam eggs', 3))"
   ]
  },
  {
   "cell_type": "markdown",
   "metadata": {},
   "source": [
    "Now we write a loop that goes through all 100 books again. However, for each book, we split it up into batches so that each batch has at most 10000 words. In this case, we check number of batches there are in total across all 100 books. The code prints out the following (with the correct total number of batches):\n",
    "\n",
    "```\n",
    "Total number of batches: <total number of batches across all 100 books>\n",
    "```"
   ]
  },
  {
   "cell_type": "code",
   "execution_count": 4,
   "metadata": {},
   "outputs": [
    {
     "name": "stdout",
     "output_type": "stream",
     "text": [
      "Total number of batches:  1246\n"
     ]
    }
   ],
   "source": [
    "import numpy as np\n",
    "\n",
    "def batch_split(directory, words_per_batch):\n",
    "    # creating a list of all the words\n",
    "    all_books_batches = []\n",
    "    for i in range(0,100):\n",
    "        words_split_on_spaces = []\n",
    "        with open(glob.glob(directory)[i], 'r') as f:\n",
    "            text = f.read()\n",
    "            words_split_on_spaces.extend(text.split(' '))\n",
    "            \n",
    "        # creating all the batches\n",
    "        num_book_pieces = int(np.ceil(len(words_split_on_spaces) / words_per_batch))\n",
    "        batches = []\n",
    "        for piece_idx in range(num_book_pieces):\n",
    "            start_idx = piece_idx * words_per_batch\n",
    "            end_idx = (piece_idx + 1) * words_per_batch\n",
    "            if end_idx > len(words_split_on_spaces):\n",
    "                end_idx = len(words_split_on_spaces)\n",
    "            book_piece = ' '.join(words_split_on_spaces[start_idx:end_idx])\n",
    "            batches.append(book_piece)\n",
    "        all_books_batches.extend(batches)\n",
    "    return all_books_batches\n",
    "all_batches = batch_split('./HW1_Dataset/*.txt',10000)\n",
    "print(\"Total number of batches: \", len(all_batches))"
   ]
  },
  {
   "cell_type": "markdown",
   "metadata": {},
   "source": [
    "**PART (b)** Now we will finally use spaCy. Note that for this problem, you don't actually need `spaCy`'s named entity recognition or grammatical parsing. Turning these elements off when you instantiate the `nlp` object can substantially speed up your code. To make sure these are off when instantiating the `nlp` object, call: \n",
    "\n",
    "```python\n",
    "nlp = spacy.load('en_core_web_sm', disable=['ner', 'parser'])\n",
    "```\n",
    "\n",
    "**Throughout this problem, we do not remove stopwords.**\n",
    "\n",
    "Now we build a term frequency (raw counts) table that is for all 100 books. Specifically, building on our solution to part (a)-subpart iii, read in a single book at a time and for each book, we do the following:\n",
    "\n",
    "  1. Split it up into batches where each batch has at most 10000 words.\n",
    "  2. For each batch:\n",
    "    1. Process the batch by separating and lemmatizing the words\n",
    "    2. Count the number of times each lemma appears and add these to the frequency table. For simplicity, **we do not convert lemmas to lowercase**. (Note that we use raw counts as the \"frequency\"--and not do any division.) Also, as we explain below, we will only count lemmas that are alphabetic.\n",
    "\n",
    "Note that just as we had said in part (a): we do **not** print out the complete contents of every book since doing so will result in a Jupyter notebook file that is massive.\n",
    "\n",
    "After looping through all 100 books, we get the term frequency table for the entire corpus (importantly, the frequency table is not just for a single book; it is for all 100 books). Then we sort the table and print the top 50 most frequent words, along with their frequencies and ranks. Don't worry about ties (for example, if multiple things have the same frequency, it's fine if your solution breaks ties arbitrarily in the sorting).\n",
    "\n",
    "Note: When counting the lemmas, we only include lemmas that consist of alphabetic letters (a-z and A-Z). You can do this with what's called a *regular expression*. For example, to check whether the words \"will.i.am\" or \"Tesla\" are alphabetic, we would do the following:\n",
    "\n",
    "```python\n",
    "import re  # regular expression package\n",
    "if re.match('[a-zA-Z]+$', 'will.i.am'):\n",
    "    print('will.i.am consists only of alphabetic letters!')\n",
    "if re.match('[a-zA-Z]+$', 'Tesla'):\n",
    "    print('tesla consists only of alphabetic letters!')\n",
    "```"
   ]
  },
  {
   "cell_type": "code",
   "execution_count": 5,
   "metadata": {},
   "outputs": [],
   "source": [
    "import spacy\n",
    "import re\n",
    "from collections import Counter\n",
    "\n",
    "pattern = '[a-zA-Z]+$'\n",
    "nlp = spacy.load('en_core_web_sm', disable=['ner', 'parser'])"
   ]
  },
  {
   "cell_type": "code",
   "execution_count": 6,
   "metadata": {},
   "outputs": [],
   "source": [
    "from tqdm.notebook import tqdm\n",
    "\n",
    "def word_freq_counter(all_books_batches):\n",
    "    histogram = Counter()\n",
    "    for batches in tqdm(all_books_batches):\n",
    "        # Parsing text in each batch\n",
    "        parsed_text = nlp(batches)\n",
    "        for token in parsed_text:\n",
    "            lemma = token.lemma_\n",
    "            if re.match(r'^[a-zA-Z]+$', lemma):\n",
    "                histogram[lemma] += 1\n",
    "    return histogram.most_common()"
   ]
  },
  {
   "cell_type": "code",
   "execution_count": 7,
   "metadata": {},
   "outputs": [
    {
     "data": {
      "application/vnd.jupyter.widget-view+json": {
       "model_id": "6195d266b9524d5595e67a51d08fd680",
       "version_major": 2,
       "version_minor": 0
      },
      "text/plain": [
       "  0%|          | 0/1246 [00:00<?, ?it/s]"
      ]
     },
     "metadata": {},
     "output_type": "display_data"
    }
   ],
   "source": [
    "sorted_token_count_pairs = word_freq_counter(all_batches)"
   ]
  },
  {
   "cell_type": "code",
   "execution_count": 8,
   "metadata": {},
   "outputs": [
    {
     "name": "stdout",
     "output_type": "stream",
     "text": [
      "1 the : 702465\n",
      "2 be : 436114\n",
      "3 and : 435424\n",
      "4 of : 386347\n",
      "5 to : 324409\n",
      "6 I : 255129\n",
      "7 a : 233423\n",
      "8 in : 204252\n",
      "9 he : 193622\n",
      "10 that : 159010\n",
      "11 have : 158746\n",
      "12 it : 135431\n",
      "13 not : 111854\n",
      "14 his : 108536\n",
      "15 you : 102595\n",
      "16 with : 101227\n",
      "17 they : 96821\n",
      "18 for : 95320\n",
      "19 as : 90702\n",
      "20 she : 78524\n",
      "21 but : 75599\n",
      "22 my : 73983\n",
      "23 do : 68758\n",
      "24 at : 64947\n",
      "25 on : 62833\n",
      "26 by : 61274\n",
      "27 this : 61240\n",
      "28 we : 60300\n",
      "29 which : 58868\n",
      "30 all : 58636\n",
      "31 say : 58348\n",
      "32 from : 50095\n",
      "33 so : 47999\n",
      "34 or : 47810\n",
      "35 her : 42838\n",
      "36 one : 41123\n",
      "37 will : 40920\n",
      "38 man : 39585\n",
      "39 their : 38418\n",
      "40 what : 37851\n",
      "41 no : 37808\n",
      "42 there : 37209\n",
      "43 if : 34898\n",
      "44 go : 33899\n",
      "45 when : 33587\n",
      "46 an : 32517\n",
      "47 come : 32358\n",
      "48 see : 32024\n",
      "49 would : 31289\n",
      "50 who : 30934\n"
     ]
    }
   ],
   "source": [
    "for rank, (token, count) in enumerate(sorted_token_count_pairs[:50], start = 1):\n",
    "        print(rank, token, \":\", count)"
   ]
  },
  {
   "cell_type": "markdown",
   "metadata": {},
   "source": [
    "**(c)** Now lets we visualize the frequency table by plotting a **raw scatter plot** (put frequency as the y-axis and rank as the x-axis), and a **log-log plot** (use logarithmic scales on both the x- and y- axes). Note that this is for all words and not only the top 50. As before, for the ranks, do not worry about ties, i.e., break ties arbitrarily."
   ]
  },
  {
   "cell_type": "code",
   "execution_count": 9,
   "metadata": {},
   "outputs": [
    {
     "data": {
      "image/png": "[encoded data removed]",
      "text/plain": [
       "<Figure size 640x480 with 1 Axes>"
      ]
     },
     "metadata": {},
     "output_type": "display_data"
    }
   ],
   "source": [
    "# Raw scatter plot\n",
    "import matplotlib.pyplot as plt\n",
    "\n",
    "rank = list(range(1, len(sorted_token_count_pairs) + 1))\n",
    "frequencies = [count for (token, count) in sorted_token_count_pairs]\n",
    "\n",
    "plt.scatter(rank, frequencies)\n",
    "plt.xlabel(\"Rank\")\n",
    "plt.ylabel(\"Frequency\")\n",
    "plt.show()"
   ]
  },
  {
   "cell_type": "code",
   "execution_count": 10,
   "metadata": {},
   "outputs": [
    {
     "data": {
      "image/png": "[encoded data removed]",
      "text/plain": [
       "<Figure size 640x480 with 1 Axes>"
      ]
     },
     "metadata": {},
     "output_type": "display_data"
    }
   ],
   "source": [
    "# Log-log plot\n",
    "import numpy as np\n",
    "plt.loglog(rank, frequencies)\n",
    "plt.xlabel(\"Log(Rank)\")\n",
    "plt.ylabel(\"Log(Frequency)\")\n",
    "plt.show()"
   ]
  },
  {
   "cell_type": "markdown",
   "metadata": {},
   "source": [
    "**(d)** Let's now try to make sense of the very last plot in part **(c)**. Zipf's law states that term frequency is governed by a power law, i.e. the relationship between term frequency and rank can be approximated by $f(r) = cr^{-1}$, where $f(r)$ is the frequency of the term at rank $r$, $r$ is the rank of a term, and $c$ is a constant that is approximately 0.1*(corpus size) for English.\n",
    "\n",
    "Lets answer the following questions:\n",
    "\n",
    "**What do you observe in the log-log plot above? Is this consist with the power law?**"
   ]
  },
  {
   "cell_type": "markdown",
   "metadata": {},
   "source": [
    "𝑓(𝑟)=𝑐𝑟^-1\n",
    "From this function we can understand that frequency is inversely propotional to r i.e. rank of the word. In the log-log plot we can see that as the rank increases frequency decreases and are thus consistent with the power law. We can also see the slope of the plot, since it is close to -1 we can conclude that it is consistent with power law."
   ]
  },
  {
   "cell_type": "markdown",
   "metadata": {},
   "source": [
    "**Subpart ii.** Think of the corpus as a (large) unigram bag of words. Imagine drawing a single word from this big bag (note that we are assuming that we've lemmatized the words and also filtered out non-alphabetic words; thus what remains in the bag are actually alphabetic lemmas). What is the probability of drawing one of the 4 most frequent alphabetic lemmas? What is the probability of drawing one of the 50 most frequent alphabetic lemmas? "
   ]
  },
  {
   "cell_type": "code",
   "execution_count": 11,
   "metadata": {},
   "outputs": [
    {
     "name": "stdout",
     "output_type": "stream",
     "text": [
      "Probability of drawing one of the 4 most frequent alphabetic lemmas: \n",
      "0.16223575913317353\n",
      "Probability of drawing one of the 50 most frequent alphabetic lemmas: \n",
      "0.483136162423952\n"
     ]
    }
   ],
   "source": [
    "print('Probability of drawing one of the 4 most frequent alphabetic lemmas: ')\n",
    "\n",
    "sum_of_frequencies = sum(frequencies)\n",
    "\n",
    "probability_top_4 = 0\n",
    "for token,count in sorted_token_count_pairs[:4]:\n",
    "    probability_top_4 += (count/sum_of_frequencies)\n",
    "print(probability_top_4)\n",
    "\n",
    "print('Probability of drawing one of the 50 most frequent alphabetic lemmas: ')\n",
    "\n",
    "probability_top_50 = 0\n",
    "for token,count in sorted_token_count_pairs[:50]:\n",
    "    probability_top_50 += (count/sum_of_frequencies)\n",
    "print(probability_top_50)"
   ]
  },
  {
   "cell_type": "markdown",
   "metadata": {},
   "source": [
    "**Subpart iii.** What proportion of the alphabetic lemmas occur only once? What proportion of the alphabetic lemmas occur fewer than 10 times?"
   ]
  },
  {
   "cell_type": "code",
   "execution_count": 12,
   "metadata": {
    "scrolled": true
   },
   "outputs": [
    {
     "name": "stdout",
     "output_type": "stream",
     "text": [
      "Occur only once: \n",
      "0.44752296068407005\n",
      "Occur fewer than 10 times: \n",
      "0.7815500158349545\n"
     ]
    }
   ],
   "source": [
    "print(\"Occur only once: \")\n",
    "\n",
    "one_occurrence = 0\n",
    "for token,count in sorted_token_count_pairs:\n",
    "    if count == 1:\n",
    "        one_occurrence += 1\n",
    "proportion_one_occurrence = one_occurrence/rank[-1]\n",
    "print(proportion_one_occurrence)\n",
    "\n",
    "print(\"Occur fewer than 10 times: \")\n",
    "\n",
    "ten_occurrences = 0\n",
    "for token,count in sorted_token_count_pairs:\n",
    "    if count < 10:\n",
    "        ten_occurrences += 1\n",
    "proportion_ten_occurrence = ten_occurrences/rank[-1]\n",
    "print(proportion_ten_occurrence)"
   ]
  },
  {
   "cell_type": "markdown",
   "metadata": {},
   "source": [
    "### Entity Recognition and Pointwise Mutual Information (PMI) \n",
    "By using the entity recognition system in `spaCy`, let's identify named entities from newspaper articles. We used the Reuters corpus which contains more than ten thousand newspaper articles. To run the code below, we downloaded the Reuters dataset. To do so, in a terminal/command line (recall that you can open a terminal from Jupyter's webpage that shows all the files, which by default is [http://localhost:8888/tree](http://localhost:8888/tree)), start up Python and enter:\n",
    "\n",
    "```python\n",
    "import nltk\n",
    "nltk.download('reuters')\n",
    "```\n",
    "\n",
    "Then proceed to the problem subparts below.\n",
    "\n",
    "Note that in this problem you will need named entity recognition but not grammatical parsing. Hence, you will want to instantiate the nlp object by calling:\n",
    "\n",
    "```python\n",
    "nlp = spacy.load('en_core_web_sm', disable=['parser'])\n",
    "```\n"
   ]
  },
  {
   "cell_type": "code",
   "execution_count": 13,
   "metadata": {},
   "outputs": [
    {
     "name": "stderr",
     "output_type": "stream",
     "text": [
      "[nltk_data] Downloading package reuters to\n",
      "[nltk_data]     /Users/khushalidaga/nltk_data...\n",
      "[nltk_data]   Unzipping corpora/reuters.zip.\n"
     ]
    },
    {
     "data": {
      "text/plain": [
       "True"
      ]
     },
     "execution_count": 13,
     "metadata": {},
     "output_type": "execute_result"
    }
   ],
   "source": [
    "import nltk\n",
    "nltk.download('reuters')"
   ]
  },
  {
   "cell_type": "markdown",
   "metadata": {},
   "source": [
    "**(a)** Let's now draw a bar chart in which one of the axes shows entity labels and the other shows the frequency of the corresponding label."
   ]
  },
  {
   "cell_type": "code",
   "execution_count": 14,
   "metadata": {
    "scrolled": false
   },
   "outputs": [],
   "source": [
    "import matplotlib.pyplot as plt\n",
    "from collections import Counter\n",
    "from nltk.corpus import reuters\n",
    "import re\n",
    "import spacy\n",
    "\n",
    "nlp = spacy.load('en_core_web_sm', disable=['parser'])\n",
    "reuters_fileids = reuters.fileids()  # hint: when first debugging, consider looking at just the first few\n",
    "reuters_nlp = [nlp(re.sub('\\s+',' ', reuters.raw(i)).strip()) for i in reuters_fileids]"
   ]
  },
  {
   "cell_type": "code",
   "execution_count": 15,
   "metadata": {},
   "outputs": [
    {
     "data": {
      "image/png": "[encoded data removed]",
      "text/plain": [
       "<Figure size 640x480 with 1 Axes>"
      ]
     },
     "metadata": {},
     "output_type": "display_data"
    }
   ],
   "source": [
    "label_counter = Counter()\n",
    "for doc in reuters_nlp:\n",
    "    for ent in doc.ents:\n",
    "        label_counter[ent.label_] += 1\n",
    "        \n",
    "labels, frequency = zip(*label_counter.items())\n",
    "plt.bar(labels, frequency)\n",
    "plt.xlabel(\"Labels\")\n",
    "plt.ylabel(\"Frequency\")\n",
    "plt.show()\n"
   ]
  },
  {
   "cell_type": "markdown",
   "metadata": {},
   "source": [
    "**(b)** Now let's list the top 10 most frequently occurring entities (entity text and the number of occurence) with label `ORG` (organization). Separately listing the top 10 most frequently occurring entities with label `GPE` (geopolitical entity such as countries, cities, states) respectively.\n",
    "\n",
    "Here, when counting the (raw count) frequency, we need to count how many articles have an entity with the desired property. For every article, we add 1 if the article has the entity and 0 otherwise."
   ]
  },
  {
   "cell_type": "code",
   "execution_count": 16,
   "metadata": {},
   "outputs": [
    {
     "name": "stdout",
     "output_type": "stream",
     "text": [
      "10 most common entities with label ORG\n",
      "cts :  1115\n",
      "reuters :  444\n",
      "the securities and exchange commission :  248\n",
      "ec :  231\n",
      "fed :  230\n",
      "treasury :  228\n",
      "cts net :  179\n",
      "the u.s. agriculture department :  170\n",
      "usda :  154\n",
      "the bank of england :  143\n",
      "\n",
      "10 most common entities with label GPE\n",
      "u.s. :  1631\n",
      "japan :  579\n",
      "the united states :  383\n",
      "u.k. :  297\n",
      "canada :  295\n",
      "new york :  251\n",
      "west germany :  236\n",
      "washington :  230\n",
      "london :  216\n",
      "brazil :  201\n"
     ]
    }
   ],
   "source": [
    "ORG_counter = Counter()\n",
    "GPE_counter = Counter()\n",
    "\n",
    "for doc in reuters_nlp:\n",
    "    org_set = set()\n",
    "    gpe_set = set()\n",
    "    for ent in doc.ents:\n",
    "        if ent.label_ == \"ORG\":\n",
    "            org_set.add(ent.text.lower())\n",
    "        elif ent.label_ == \"GPE\":\n",
    "            gpe_set.add(ent.text.lower())\n",
    "    for org in org_set:\n",
    "        ORG_counter[org] += 1\n",
    "    for gpe in gpe_set:\n",
    "        GPE_counter[gpe] += 1\n",
    "    \n",
    "print('10 most common entities with label ORG')\n",
    "for token, count in ORG_counter.most_common()[:10]:\n",
    "    print(token, ': ', count)\n",
    "    \n",
    "print()\n",
    "print('10 most common entities with label GPE')\n",
    "for token, count in GPE_counter.most_common()[:10]:\n",
    "    print(token, ': ', count)"
   ]
  },
  {
   "cell_type": "markdown",
   "metadata": {},
   "source": [
    "**(c)** Let's now look at the top 50 `GPE` (countries, cities, states) entities that have the highest Pointwise Mutual Information (PMI) values with regard to the `ORG` (organization) entity **'opec'** (your list of this top 50 should be ranked in decreasing PMI value). Did you find any unexpected results? If so, why do you think it happened? If you found some of the results to be unsurprisingly, how come? \n",
    "\n",
    "Hint 1: When computing PMI, we will compute probabilities by counting the number of documents where entities occur or co-occur.  For example, $P('opec') = \\frac{number \\ \\ of \\ \\ documents \\ \\ containing \\ \\ 'opec'}{number \\ \\ of \\ \\ documents}$.  \n",
    "\n",
    "Hint 2: To compute this ranking, you do not have to compute the full PMI equation."
   ]
  },
  {
   "cell_type": "code",
   "execution_count": 17,
   "metadata": {},
   "outputs": [],
   "source": [
    "all_pairs = [(GPE, 'opec') for GPE in GPE_counter]"
   ]
  },
  {
   "cell_type": "code",
   "execution_count": 18,
   "metadata": {},
   "outputs": [
    {
     "name": "stdout",
     "output_type": "stream",
     "text": [
      "[('brent', 1.0), ('ula fields', 1.0), ('emirates', 1.0), ('the lake charles', 1.0), ('bethesda', 1.0), ('franco', 1.0), ('gabon', 1.0), ('opec', 1.0), ('saudi arabia reiterates commitment to', 1.0), ('yanbu', 1.0), ('el salado', 1.0), ('aguarico', 1.0), ('jubail', 1.0), ('ras tanurah', 1.0), (\"ju'aymah\", 1.0), ('tripoli', 1.0), ('doha', 1.0), ('guayaquil', 1.0), ('tihamah', 1.0), ('redoglia', 1.0), ('carrington', 1.0), ('materialy', 1.0), ('vienna', 0.85), ('riyadh', 0.7999999999999999), (\"saudi arabia's\", 0.6875), ('balao', 0.6666666666666666), ('quito', 0.6666666666666666), ('qatar', 0.5769230769230769), ('dubai', 0.5714285714285714), ('caracas', 0.5555555555555556), ('nigeria', 0.5), ('kahan', 0.5), ('nordic', 0.5), ('statfjord', 0.5), ('oseberg', 0.5), ('la', 0.5), ('dunham', 0.5), ('libya', 0.4615384615384615), ('ecuador', 0.43859649122807015), ('saudi arabia', 0.42187500000000006), ('kuwait', 0.39705882352941174), ('the united arab emirates', 0.37931034482758613), ('venezuela', 0.3617021276595745), ('lago agrio', 0.3333333333333333), ('petromin', 0.3333333333333333), ('alexandria', 0.3333333333333333), ('lagos', 0.3333333333333333), ('jakarta', 0.3333333333333333), ('jamaica', 0.2857142857142857), ('iceland', 0.25)]\n"
     ]
    }
   ],
   "source": [
    "opec_gpe_count = Counter()\n",
    "opec_count = 0\n",
    "gpe_count = Counter()\n",
    "for doc in reuters_nlp:\n",
    "    org_entities = {token.text.lower() for token in doc.ents if token.label_ == 'ORG'}\n",
    "    gpe_entities = {token.text.lower() for token in doc.ents if token.label_ == 'GPE'}\n",
    "    if 'opec' in org_entities:\n",
    "        opec_count += 1\n",
    "        for gpe in gpe_entities:\n",
    "            opec_gpe_count[(gpe, 'opec')] += 1\n",
    "            gpe_count[gpe] += 1\n",
    "\n",
    "\n",
    "PMI_calc = []\n",
    "for (gpe, opec), co_occ in opec_gpe_count.items():\n",
    "    p_opec = opec_count / len(reuters_nlp)\n",
    "    p_gpe = GPE_counter[gpe] / len(reuters_nlp)\n",
    "    p_opec_gpe = co_occ / len(reuters_nlp)\n",
    "    PMI = p_opec_gpe / (p_gpe)\n",
    "    PMI_calc.append((gpe, PMI))\n",
    "\n",
    "print(sorted(PMI_calc, key = lambda a: a[1], reverse = True)[:50])"
   ]
  },
  {
   "cell_type": "markdown",
   "metadata": {},
   "source": [
    "Suprisingly, the PMI value of GPE entities from brent materialy have the same value. Which is very unusal and it implies that all the entities have the same number of co-occurrences with opec in all documents i.e. 1.0. In reality we expect certain variations in the value suggesting that certain entities have stronger association with opec. This might be due to data limitation. We are not dividing the PMI with probability of opec as that would be the same for all the GPE entities.\n",
    "\n",
    "Another unusual thing is we have the entity opec that has a label of GPE, so there might be words like Opec or OPEC in the document that are labeled as GPE."
   ]
  }
 ],
 "metadata": {
  "anaconda-cloud": {},
  "kernelspec": {
   "display_name": "Python 3 (ipykernel)",
   "language": "python",
   "name": "python3"
  },
  "language_info": {
   "codemirror_mode": {
    "name": "ipython",
    "version": 3
   },
   "file_extension": ".py",
   "mimetype": "text/x-python",
   "name": "python",
   "nbconvert_exporter": "python",
   "pygments_lexer": "ipython3",
   "version": "3.11.4"
  }
 },
 "nbformat": 4,
 "nbformat_minor": 2
}
